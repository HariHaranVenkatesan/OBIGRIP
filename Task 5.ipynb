{
 "cells": [
  {
   "cell_type": "markdown",
   "id": "96437871",
   "metadata": {},
   "source": [
    " # Oasis Infobyte Internship\n",
    " ###### Batch - January Phase 2 OIBSIP\n",
    " ## Author -  HariHaran Venkatesan"
   ]
  },
  {
   "cell_type": "markdown",
   "id": "2cc7dc4c",
   "metadata": {},
   "source": [
    "# Sales Prediction Using Python"
   ]
  },
  {
   "cell_type": "markdown",
   "id": "22b29d50",
   "metadata": {},
   "source": [
    "Basically, predicting something by instinct is human nature. Everyone learns from the past to predict the future. But, what about the engine?\n",
    "\n",
    "To predict the future, the machine will learn from historical data. They will find certain patterns to produce predictions for the future, with mathematics.\n",
    "\n",
    "Here, we will learn how to make machine learning to predict sales generated from advertisements shown on TV, Radio and Newsletters. We will apply what is called Linear Regression. This is a simple equation included in supervised learning."
   ]
  },
  {
   "cell_type": "markdown",
   "id": "872170e2",
   "metadata": {},
   "source": [
    "## Dataset\n",
    "You can download the dataset at https://www.kaggle.com/datasets/ashydv/advertising-dataset."
   ]
  },
  {
   "cell_type": "markdown",
   "id": "d8a828db",
   "metadata": {},
   "source": [
    "## Simple Linear Regression\n",
    "Now let’s start by importing the required libraries. First, create a new code block and type the following code into it:"
   ]
  },
  {
   "cell_type": "code",
   "execution_count": 1,
   "id": "19dba7b5",
   "metadata": {},
   "outputs": [],
   "source": [
    "import pandas as pd \n",
    "import seaborn as sns \n",
    "from sklearn.model_selection import train_test_split \n",
    "from sklearn.linear_model import LinearRegression"
   ]
  },
  {
   "cell_type": "markdown",
   "id": "aa7138fa",
   "metadata": {},
   "source": [
    "Let’s load the dataset with the read_csv method to open the advertising.csv file from the datasets folder and display the top five records with the head method:"
   ]
  },
  {
   "cell_type": "code",
   "execution_count": 2,
   "id": "329cbc5c",
   "metadata": {},
   "outputs": [
    {
     "data": {
      "text/html": [
       "<div>\n",
       "<style scoped>\n",
       "    .dataframe tbody tr th:only-of-type {\n",
       "        vertical-align: middle;\n",
       "    }\n",
       "\n",
       "    .dataframe tbody tr th {\n",
       "        vertical-align: top;\n",
       "    }\n",
       "\n",
       "    .dataframe thead th {\n",
       "        text-align: right;\n",
       "    }\n",
       "</style>\n",
       "<table border=\"1\" class=\"dataframe\">\n",
       "  <thead>\n",
       "    <tr style=\"text-align: right;\">\n",
       "      <th></th>\n",
       "      <th>Unnamed: 0</th>\n",
       "      <th>TV</th>\n",
       "      <th>Radio</th>\n",
       "      <th>Newspaper</th>\n",
       "      <th>Sales</th>\n",
       "    </tr>\n",
       "  </thead>\n",
       "  <tbody>\n",
       "    <tr>\n",
       "      <th>0</th>\n",
       "      <td>1</td>\n",
       "      <td>230.1</td>\n",
       "      <td>37.8</td>\n",
       "      <td>69.2</td>\n",
       "      <td>22.1</td>\n",
       "    </tr>\n",
       "    <tr>\n",
       "      <th>1</th>\n",
       "      <td>2</td>\n",
       "      <td>44.5</td>\n",
       "      <td>39.3</td>\n",
       "      <td>45.1</td>\n",
       "      <td>10.4</td>\n",
       "    </tr>\n",
       "    <tr>\n",
       "      <th>2</th>\n",
       "      <td>3</td>\n",
       "      <td>17.2</td>\n",
       "      <td>45.9</td>\n",
       "      <td>69.3</td>\n",
       "      <td>9.3</td>\n",
       "    </tr>\n",
       "    <tr>\n",
       "      <th>3</th>\n",
       "      <td>4</td>\n",
       "      <td>151.5</td>\n",
       "      <td>41.3</td>\n",
       "      <td>58.5</td>\n",
       "      <td>18.5</td>\n",
       "    </tr>\n",
       "    <tr>\n",
       "      <th>4</th>\n",
       "      <td>5</td>\n",
       "      <td>180.8</td>\n",
       "      <td>10.8</td>\n",
       "      <td>58.4</td>\n",
       "      <td>12.9</td>\n",
       "    </tr>\n",
       "  </tbody>\n",
       "</table>\n",
       "</div>"
      ],
      "text/plain": [
       "   Unnamed: 0     TV  Radio  Newspaper  Sales\n",
       "0           1  230.1   37.8       69.2   22.1\n",
       "1           2   44.5   39.3       45.1   10.4\n",
       "2           3   17.2   45.9       69.3    9.3\n",
       "3           4  151.5   41.3       58.5   18.5\n",
       "4           5  180.8   10.8       58.4   12.9"
      ]
     },
     "execution_count": 2,
     "metadata": {},
     "output_type": "execute_result"
    }
   ],
   "source": [
    "df = pd.read_csv(\"advertising.csv\")\n",
    "df.head()"
   ]
  },
  {
   "cell_type": "code",
   "execution_count": 3,
   "id": "64ce9de7",
   "metadata": {},
   "outputs": [],
   "source": [
    "df = df.drop([\"Unnamed: 0\"],axis=1)"
   ]
  },
  {
   "cell_type": "code",
   "execution_count": 4,
   "id": "a5d0f944",
   "metadata": {},
   "outputs": [
    {
     "data": {
      "text/html": [
       "<div>\n",
       "<style scoped>\n",
       "    .dataframe tbody tr th:only-of-type {\n",
       "        vertical-align: middle;\n",
       "    }\n",
       "\n",
       "    .dataframe tbody tr th {\n",
       "        vertical-align: top;\n",
       "    }\n",
       "\n",
       "    .dataframe thead th {\n",
       "        text-align: right;\n",
       "    }\n",
       "</style>\n",
       "<table border=\"1\" class=\"dataframe\">\n",
       "  <thead>\n",
       "    <tr style=\"text-align: right;\">\n",
       "      <th></th>\n",
       "      <th>TV</th>\n",
       "      <th>Radio</th>\n",
       "      <th>Newspaper</th>\n",
       "      <th>Sales</th>\n",
       "    </tr>\n",
       "  </thead>\n",
       "  <tbody>\n",
       "    <tr>\n",
       "      <th>0</th>\n",
       "      <td>230.1</td>\n",
       "      <td>37.8</td>\n",
       "      <td>69.2</td>\n",
       "      <td>22.1</td>\n",
       "    </tr>\n",
       "    <tr>\n",
       "      <th>1</th>\n",
       "      <td>44.5</td>\n",
       "      <td>39.3</td>\n",
       "      <td>45.1</td>\n",
       "      <td>10.4</td>\n",
       "    </tr>\n",
       "    <tr>\n",
       "      <th>2</th>\n",
       "      <td>17.2</td>\n",
       "      <td>45.9</td>\n",
       "      <td>69.3</td>\n",
       "      <td>9.3</td>\n",
       "    </tr>\n",
       "    <tr>\n",
       "      <th>3</th>\n",
       "      <td>151.5</td>\n",
       "      <td>41.3</td>\n",
       "      <td>58.5</td>\n",
       "      <td>18.5</td>\n",
       "    </tr>\n",
       "    <tr>\n",
       "      <th>4</th>\n",
       "      <td>180.8</td>\n",
       "      <td>10.8</td>\n",
       "      <td>58.4</td>\n",
       "      <td>12.9</td>\n",
       "    </tr>\n",
       "  </tbody>\n",
       "</table>\n",
       "</div>"
      ],
      "text/plain": [
       "      TV  Radio  Newspaper  Sales\n",
       "0  230.1   37.8       69.2   22.1\n",
       "1   44.5   39.3       45.1   10.4\n",
       "2   17.2   45.9       69.3    9.3\n",
       "3  151.5   41.3       58.5   18.5\n",
       "4  180.8   10.8       58.4   12.9"
      ]
     },
     "execution_count": 4,
     "metadata": {},
     "output_type": "execute_result"
    }
   ],
   "source": [
    "df.head()"
   ]
  },
  {
   "cell_type": "markdown",
   "id": "f5b2c3d2",
   "metadata": {},
   "source": [
    "You can see this output. The Sales column is the dependent variable (symbolized as y) that we will use when we create the model. Of course, the dependent variable is separate from the feature variable (symbolized as x).\n",
    "\n",
    "Next, let’s check if there is a null value:"
   ]
  },
  {
   "cell_type": "code",
   "execution_count": 5,
   "id": "74efe69f",
   "metadata": {},
   "outputs": [
    {
     "data": {
      "text/plain": [
       "TV           0\n",
       "Radio        0\n",
       "Newspaper    0\n",
       "Sales        0\n",
       "dtype: int64"
      ]
     },
     "execution_count": 5,
     "metadata": {},
     "output_type": "execute_result"
    }
   ],
   "source": [
    "df.isna().sum()"
   ]
  },
  {
   "cell_type": "markdown",
   "id": "56b6215b",
   "metadata": {},
   "source": [
    "In case of regression, make sure the data has no null values because regression will not work if any of the data has null values.\n",
    "\n",
    "Correlation analysis is an important part when we want to build a model. We must understand how the independent variable has a correlation with the dependent variable. For this, we can create a heatmap that can explain the correlation between the columns in the dataset:"
   ]
  },
  {
   "cell_type": "code",
   "execution_count": 6,
   "id": "1c096169",
   "metadata": {},
   "outputs": [
    {
     "data": {
      "text/plain": [
       "<AxesSubplot:>"
      ]
     },
     "execution_count": 6,
     "metadata": {},
     "output_type": "execute_result"
    },
    {
     "data": {
      "image/png": "[encoded data removed]",
      "text/plain": [
       "<Figure size 432x288 with 2 Axes>"
      ]
     },
     "metadata": {
      "needs_background": "light"
     },
     "output_type": "display_data"
    }
   ],
   "source": [
    "sns.heatmap(df.corr(), square=True)"
   ]
  },
  {
   "cell_type": "markdown",
   "id": "a64d6169",
   "metadata": {},
   "source": [
    "Since we want to build a linear regression model, we need to find some independent variables that have a significant correlation with the Sales variable (as the target variable).\n",
    "\n",
    "Here, TV has a positive correlation with Sales. So, we will take TV as a feature (X) and Sales as a predictor (y) for the regression model we are going to create. We will use seaborn’s lmplot method to see the correlation between TV and Sales:"
   ]
  },
  {
   "cell_type": "code",
   "execution_count": 7,
   "id": "43dea28e",
   "metadata": {},
   "outputs": [
    {
     "data": {
      "text/plain": [
       "<seaborn.axisgrid.FacetGrid at 0x28d9301a700>"
      ]
     },
     "execution_count": 7,
     "metadata": {},
     "output_type": "execute_result"
    },
    {
     "data": {
      "image/png": "[encoded data removed]",
      "text/plain": [
       "<Figure size 360x360 with 1 Axes>"
      ]
     },
     "metadata": {
      "needs_background": "light"
     },
     "output_type": "display_data"
    }
   ],
   "source": [
    "sns.lmplot(x='TV', y='Sales', data=df)"
   ]
  },
  {
   "cell_type": "markdown",
   "id": "ccf0230a",
   "metadata": {},
   "source": [
    "From this plot shows a strong correlation between these two variables. Now, let’s create the features and target variables in an array like this:"
   ]
  },
  {
   "cell_type": "code",
   "execution_count": 8,
   "id": "c697822a",
   "metadata": {},
   "outputs": [],
   "source": [
    "X = df[['TV']]\n",
    "y = df.Sales"
   ]
  },
  {
   "cell_type": "markdown",
   "id": "abce3fda",
   "metadata": {},
   "source": [
    "## Create and Train Models\n",
    "Before doing the training, we need to divide the data into two. Data for training and data for testing. Sklearn provides a train_test_split() function that can split a dataset into training and testing data:"
   ]
  },
  {
   "cell_type": "code",
   "execution_count": 9,
   "id": "1910011f",
   "metadata": {},
   "outputs": [],
   "source": [
    "X_train, X_test, y_train, y_test = train_test_split(X, y, test_size=0.3, random_state=10)"
   ]
  },
  {
   "cell_type": "markdown",
   "id": "0d1a4c73",
   "metadata": {},
   "source": [
    "X is the independent variable and Y is the target variable (output). In train_test_split, test_size indicates the size of the dataset for testing. The value of 0.3 means that the data is divided into 70% for training and 30% for testing. random_state to randomize the training and test data.\n",
    "\n",
    "The train_test_split() function returns four values in an array of X for training and testing and y for training and testing.\n",
    "\n",
    "Next, we’ll train the linear regression model using LinearRegression() from the sklearn library with the training dataset:"
   ]
  },
  {
   "cell_type": "code",
   "execution_count": 10,
   "id": "6ec025e4",
   "metadata": {},
   "outputs": [
    {
     "data": {
      "text/plain": [
       "LinearRegression()"
      ]
     },
     "execution_count": 10,
     "metadata": {},
     "output_type": "execute_result"
    }
   ],
   "source": [
    "model = LinearRegression()\n",
    "model.fit(X_train, y_train)"
   ]
  },
  {
   "cell_type": "markdown",
   "id": "03346b9f",
   "metadata": {},
   "source": [
    "Now, we have a model that we store in a model variable that has been trained using the training data. The next step is to evaluate how well the model can predict the target variable.\n",
    "\n",
    "## Prediction\n",
    "we can get the coefficient and intercept values from the model using attributes like coef_ and intercept_:"
   ]
  },
  {
   "cell_type": "code",
   "execution_count": 11,
   "id": "d97ec57b",
   "metadata": {},
   "outputs": [
    {
     "name": "stdout",
     "output_type": "stream",
     "text": [
      "[0.04474675]\n",
      "7.308260742166187\n"
     ]
    }
   ],
   "source": [
    "print(model.coef_)\n",
    "print(model.intercept_)"
   ]
  },
  {
   "cell_type": "markdown",
   "id": "2f954ba5",
   "metadata": {},
   "source": [
    "We can also get prediction results from the model using the predict method as follows:"
   ]
  },
  {
   "cell_type": "code",
   "execution_count": 12,
   "id": "0ed9b303",
   "metadata": {},
   "outputs": [
    {
     "data": {
      "text/plain": [
       "array([9.09813086])"
      ]
     },
     "execution_count": 12,
     "metadata": {},
     "output_type": "execute_result"
    }
   ],
   "source": [
    "model.predict([[40]])"
   ]
  },
  {
   "cell_type": "markdown",
   "id": "1fb3882b",
   "metadata": {},
   "source": [
    "Then, we can use the predict method to predict more than one X data with the same method:"
   ]
  },
  {
   "cell_type": "code",
   "execution_count": 13,
   "id": "c7f751a4",
   "metadata": {},
   "outputs": [],
   "source": [
    "y_pred = model.predict(X_test)"
   ]
  },
  {
   "cell_type": "markdown",
   "id": "3fa7b55a",
   "metadata": {},
   "source": [
    "To see the comparison of the actual data with the predicted data, we can run the following code:"
   ]
  },
  {
   "cell_type": "code",
   "execution_count": 14,
   "id": "d7a66ee8",
   "metadata": {},
   "outputs": [
    {
     "data": {
      "text/html": [
       "<div>\n",
       "<style scoped>\n",
       "    .dataframe tbody tr th:only-of-type {\n",
       "        vertical-align: middle;\n",
       "    }\n",
       "\n",
       "    .dataframe tbody tr th {\n",
       "        vertical-align: top;\n",
       "    }\n",
       "\n",
       "    .dataframe thead th {\n",
       "        text-align: right;\n",
       "    }\n",
       "</style>\n",
       "<table border=\"1\" class=\"dataframe\">\n",
       "  <thead>\n",
       "    <tr style=\"text-align: right;\">\n",
       "      <th></th>\n",
       "      <th>Actual</th>\n",
       "      <th>Predict</th>\n",
       "    </tr>\n",
       "  </thead>\n",
       "  <tbody>\n",
       "    <tr>\n",
       "      <th>0</th>\n",
       "      <td>18.4</td>\n",
       "      <td>16.736402</td>\n",
       "    </tr>\n",
       "    <tr>\n",
       "      <th>1</th>\n",
       "      <td>7.2</td>\n",
       "      <td>7.697557</td>\n",
       "    </tr>\n",
       "    <tr>\n",
       "      <th>2</th>\n",
       "      <td>18.0</td>\n",
       "      <td>17.080952</td>\n",
       "    </tr>\n",
       "    <tr>\n",
       "      <th>3</th>\n",
       "      <td>25.5</td>\n",
       "      <td>19.998440</td>\n",
       "    </tr>\n",
       "    <tr>\n",
       "      <th>4</th>\n",
       "      <td>22.6</td>\n",
       "      <td>16.991458</td>\n",
       "    </tr>\n",
       "  </tbody>\n",
       "</table>\n",
       "</div>"
      ],
      "text/plain": [
       "   Actual    Predict\n",
       "0    18.4  16.736402\n",
       "1     7.2   7.697557\n",
       "2    18.0  17.080952\n",
       "3    25.5  19.998440\n",
       "4    22.6  16.991458"
      ]
     },
     "execution_count": 14,
     "metadata": {},
     "output_type": "execute_result"
    }
   ],
   "source": [
    "act_predict= pd.DataFrame({\n",
    "    'Actual': y_test.values.flatten(), \n",
    "    'Predict': y_pred.flatten()})\n",
    "\n",
    "act_predict.head(5)"
   ]
  },
  {
   "cell_type": "markdown",
   "id": "4eb9f221",
   "metadata": {},
   "source": [
    "The difference between actual and predicted data is not too far. To make it easier to read, we can plot using the following code:\n",
    "\n",
    "Next, a bar plot will appear that provides insight into the difference between the actual and predicted data as shown below:\n",
    "\n"
   ]
  },
  {
   "cell_type": "code",
   "execution_count": 15,
   "id": "0e1315d7",
   "metadata": {},
   "outputs": [
    {
     "data": {
      "text/plain": [
       "<AxesSubplot:>"
      ]
     },
     "execution_count": 15,
     "metadata": {},
     "output_type": "execute_result"
    },
    {
     "data": {
      "image/png": "[encoded data removed]",
      "text/plain": [
       "<Figure size 432x288 with 1 Axes>"
      ]
     },
     "metadata": {
      "needs_background": "light"
     },
     "output_type": "display_data"
    }
   ],
   "source": [
    "act_predict.sample(10).plot(kind='bar')"
   ]
  },
  {
   "cell_type": "markdown",
   "id": "e1197f73",
   "metadata": {},
   "source": [
    "## Model Evaluation\n",
    "Type and run the following code to determine the accuracy of the model we created using R2 Score with parameters X_test and y_test:"
   ]
  },
  {
   "cell_type": "code",
   "execution_count": 16,
   "id": "89cc34b9",
   "metadata": {},
   "outputs": [
    {
     "data": {
      "text/plain": [
       "0.6447879078216139"
      ]
     },
     "execution_count": 16,
     "metadata": {},
     "output_type": "execute_result"
    }
   ],
   "source": [
    "model.score(X_test, y_test)"
   ]
  },
  {
   "cell_type": "markdown",
   "id": "d31f2d63",
   "metadata": {},
   "source": [
    "The value we get can be different, not always exactly like this result (0.8288743166580128). And of course the score we get is very good. If the score is 1, it means that the model we made is very perfect. If the value is 0, our model is very bad. In conclusion, the score that is close to 1 means the performance of the model that has been trained is getting better."
   ]
  },
  {
   "cell_type": "markdown",
   "id": "6c39b108",
   "metadata": {},
   "source": [
    "## Multiple Linear Regression\n",
    "The dependent variable can depend on several independent variables, this relationship can be handled using multiple linear regression. In this case, Sales doesn’t just depend on the TV. It is possible that Sales also depend on other features such as Radio and Newsletters.\n",
    "\n",
    "So, we can apply many features (X) to get prediction (output Y). Multiple linear regression can be called as an extension of simple linear regression."
   ]
  },
  {
   "cell_type": "markdown",
   "id": "76872195",
   "metadata": {},
   "source": [
    "To create multiple linear regression, we can modify a bit of code in ipynb. Find the following code block:"
   ]
  },
  {
   "cell_type": "code",
   "execution_count": 17,
   "id": "fc72457a",
   "metadata": {},
   "outputs": [],
   "source": [
    "X = df[['TV', 'Radio', 'Newspaper']]\n",
    "y = df.Sales"
   ]
  },
  {
   "cell_type": "markdown",
   "id": "cb7dfe3b",
   "metadata": {},
   "source": [
    "then, rerun the below code"
   ]
  },
  {
   "cell_type": "code",
   "execution_count": 18,
   "id": "d089e3ca",
   "metadata": {},
   "outputs": [],
   "source": [
    "X_train, X_test, y_train, y_test = train_test_split(\n",
    "    X, y, test_size= 0.3, random_state = 10)"
   ]
  },
  {
   "cell_type": "code",
   "execution_count": 19,
   "id": "c5549c0b",
   "metadata": {},
   "outputs": [
    {
     "data": {
      "text/plain": [
       "LinearRegression()"
      ]
     },
     "execution_count": 19,
     "metadata": {},
     "output_type": "execute_result"
    }
   ],
   "source": [
    "model = LinearRegression()\n",
    "model.fit(X_train, y_train)"
   ]
  },
  {
   "cell_type": "markdown",
   "id": "35a24c41",
   "metadata": {},
   "source": [
    "Finally, run the block code to get the score:"
   ]
  },
  {
   "cell_type": "code",
   "execution_count": 20,
   "id": "f5f48a8c",
   "metadata": {},
   "outputs": [
    {
     "name": "stdout",
     "output_type": "stream",
     "text": [
      "The scores we get from multiple linear regression are:\n"
     ]
    },
    {
     "data": {
      "text/plain": [
       "0.8567790678044408"
      ]
     },
     "execution_count": 20,
     "metadata": {},
     "output_type": "execute_result"
    }
   ],
   "source": [
    "print(\"The scores we get from multiple linear regression are:\")\n",
    "model.score(X_test, y_test)"
   ]
  },
  {
   "cell_type": "markdown",
   "id": "55077f5c",
   "metadata": {},
   "source": [
    "From the results we get, The accuracy value increases as we add more features. This value is better than the previous score."
   ]
  },
  {
   "cell_type": "code",
   "execution_count": null,
   "id": "b396c98f",
   "metadata": {},
   "outputs": [],
   "source": []
  }
 ],
 "metadata": {
  "kernelspec": {
   "display_name": "Python 3",
   "language": "python",
   "name": "python3"
  },
  "language_info": {
   "codemirror_mode": {
    "name": "ipython",
    "version": 3
   },
   "file_extension": ".py",
   "mimetype": "text/x-python",
   "name": "python",
   "nbconvert_exporter": "python",
   "pygments_lexer": "ipython3",
   "version": "3.8.8"
  }
 },
 "nbformat": 4,
 "nbformat_minor": 5
}
