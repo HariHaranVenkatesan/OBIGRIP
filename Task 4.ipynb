{
 "cells": [
  {
   "cell_type": "markdown",
   "id": "9037f2bf",
   "metadata": {},
   "source": [
    " # Oasis Infobyte Internship\n",
    " ###### Batch - January Phase 2 OIBSIP\n",
    " ## Author -  HariHaran Venkatesan"
   ]
  },
  {
   "cell_type": "markdown",
   "id": "eb7bf306",
   "metadata": {},
   "source": [
    "# Email Spam Detection Using Machine Learning"
   ]
  },
  {
   "cell_type": "markdown",
   "id": "08460646",
   "metadata": {},
   "source": [
    "we’ll use Python to build an email spam detector. Then, we’ll use machine learning to train our spam detector to recognize and classify emails into spam and non-spam. Let’s get started!\n",
    "\n",
    "Prerequisites\n",
    "\n",
    "First, we’ll import the necessary dependencies. Pandas is a library used mostly used by data scientists for data cleaning and analysis.\n",
    "\n",
    "Scikit-learn, also called Sklearn, is a robust library for machine learning in Python. It provides a selection of efficient tools for machine learning and statistical modeling, including classification, regression, clustering, and dimensionality reduction via a consistent interface.\n",
    "\n",
    "Run the command below to import the necessary dependencies:"
   ]
  },
  {
   "cell_type": "code",
   "execution_count": 1,
   "id": "ed4c1c1f",
   "metadata": {},
   "outputs": [],
   "source": [
    "import pandas as pd\n",
    "from sklearn.model_selection import train_test_split\n",
    "from sklearn.feature_extraction.text import CountVectorizer\n",
    "from sklearn import svm "
   ]
  },
  {
   "cell_type": "markdown",
   "id": "7225bb4a",
   "metadata": {},
   "source": [
    "### Loading the dataset\n"
   ]
  },
  {
   "cell_type": "code",
   "execution_count": 2,
   "id": "f2b67e11",
   "metadata": {},
   "outputs": [
    {
     "data": {
      "text/html": [
       "<div>\n",
       "<style scoped>\n",
       "    .dataframe tbody tr th:only-of-type {\n",
       "        vertical-align: middle;\n",
       "    }\n",
       "\n",
       "    .dataframe tbody tr th {\n",
       "        vertical-align: top;\n",
       "    }\n",
       "\n",
       "    .dataframe thead th {\n",
       "        text-align: right;\n",
       "    }\n",
       "</style>\n",
       "<table border=\"1\" class=\"dataframe\">\n",
       "  <thead>\n",
       "    <tr style=\"text-align: right;\">\n",
       "      <th></th>\n",
       "      <th>v1</th>\n",
       "      <th>v2</th>\n",
       "      <th>Unnamed: 2</th>\n",
       "      <th>Unnamed: 3</th>\n",
       "      <th>Unnamed: 4</th>\n",
       "    </tr>\n",
       "  </thead>\n",
       "  <tbody>\n",
       "    <tr>\n",
       "      <th>0</th>\n",
       "      <td>ham</td>\n",
       "      <td>Go until jurong point, crazy.. Available only ...</td>\n",
       "      <td>NaN</td>\n",
       "      <td>NaN</td>\n",
       "      <td>NaN</td>\n",
       "    </tr>\n",
       "    <tr>\n",
       "      <th>1</th>\n",
       "      <td>ham</td>\n",
       "      <td>Ok lar... Joking wif u oni...</td>\n",
       "      <td>NaN</td>\n",
       "      <td>NaN</td>\n",
       "      <td>NaN</td>\n",
       "    </tr>\n",
       "    <tr>\n",
       "      <th>2</th>\n",
       "      <td>spam</td>\n",
       "      <td>Free entry in 2 a wkly comp to win FA Cup fina...</td>\n",
       "      <td>NaN</td>\n",
       "      <td>NaN</td>\n",
       "      <td>NaN</td>\n",
       "    </tr>\n",
       "    <tr>\n",
       "      <th>3</th>\n",
       "      <td>ham</td>\n",
       "      <td>U dun say so early hor... U c already then say...</td>\n",
       "      <td>NaN</td>\n",
       "      <td>NaN</td>\n",
       "      <td>NaN</td>\n",
       "    </tr>\n",
       "    <tr>\n",
       "      <th>4</th>\n",
       "      <td>ham</td>\n",
       "      <td>Nah I don't think he goes to usf, he lives aro...</td>\n",
       "      <td>NaN</td>\n",
       "      <td>NaN</td>\n",
       "      <td>NaN</td>\n",
       "    </tr>\n",
       "  </tbody>\n",
       "</table>\n",
       "</div>"
      ],
      "text/plain": [
       "     v1                                                 v2 Unnamed: 2  \\\n",
       "0   ham  Go until jurong point, crazy.. Available only ...        NaN   \n",
       "1   ham                      Ok lar... Joking wif u oni...        NaN   \n",
       "2  spam  Free entry in 2 a wkly comp to win FA Cup fina...        NaN   \n",
       "3   ham  U dun say so early hor... U c already then say...        NaN   \n",
       "4   ham  Nah I don't think he goes to usf, he lives aro...        NaN   \n",
       "\n",
       "  Unnamed: 3 Unnamed: 4  \n",
       "0        NaN        NaN  \n",
       "1        NaN        NaN  \n",
       "2        NaN        NaN  \n",
       "3        NaN        NaN  \n",
       "4        NaN        NaN  "
      ]
     },
     "execution_count": 2,
     "metadata": {},
     "output_type": "execute_result"
    }
   ],
   "source": [
    "spam = pd.read_csv(\"spam.csv\")\n",
    "spam.head()"
   ]
  },
  {
   "cell_type": "markdown",
   "id": "321bb867",
   "metadata": {},
   "source": [
    "In the code above, we created a spam.csv file, which we’ll turn into a data frame and save to our folder spam. A data frame is a structure that aligns data in a tabular fashion in rows and columns."
   ]
  },
  {
   "cell_type": "markdown",
   "id": "fd23416e",
   "metadata": {},
   "source": [
    "### Python train_test_split()\n",
    "We’ll use a train-test split method to train our email spam detector to recognize and categorize spam emails. The train-test split is a technique for evaluating the performance of a machine learning algorithm. We can use it for either classification or regression of any supervised learning algorithm.\n",
    "\n",
    "The procedure involves taking a dataset and dividing it into two separate datasets. The first dataset is used to fit the model and is referred to as the training dataset. For the second dataset, the test dataset, we provide the input element to the model. Finally, we make predictions, comparing them against the actual output.\n",
    "\n",
    "Train dataset: used to fit the machine learning model\n",
    "Test dataset: used to evaluate the fit of the machine learning model\n",
    "In practice, we’d fit the model on available data with known inputs and outputs. Then, we’d make predictions based on new examples for which we don’t have the expected output or target values. We’ll take the data from our sample .csv file, which contains examples pre-classified into spam and non-spam, using the labels spam and ham, respectively.\n",
    "\n",
    "To split the data into our two datasets, we’ll use scikit-learn’s train_test_split() method.\n",
    "\n",
    "Let’s say we have 100 records in the loaded dataset. If we specify the test dataset is 30 percent, we’ll split 70 records for training and use the remaining 30 records for testing."
   ]
  },
  {
   "cell_type": "code",
   "execution_count": 3,
   "id": "04d89a46",
   "metadata": {},
   "outputs": [],
   "source": [
    "X = spam[\"v2\"]\n",
    "Y = spam[\"v1\"]\n",
    "\n",
    "x_train,x_test,y_train,y_test = train_test_split(X,Y,test_size=0.3)"
   ]
  },
  {
   "cell_type": "markdown",
   "id": "4ff5c2b0",
   "metadata": {},
   "source": [
    "z = spam['EmailText'] assigns the column EmailText from spam to z. It contains the data that we’ll run through the model. y = spam[\"Label\"] assigns the column Label from spam to y, telling the model to correct the answer. You can see a screenshot of the raw dataset below.\n",
    "\n",
    "The function z_train, z_test,y_train, y_test = train_test_split(z,y,test_size = 0.2) divides columns z and y into z_train for training inputs, y_train for training labels, z_test for testing inputs, and y_test for testing labels.\n",
    "\n",
    "test_size=0.2 sets the testing set to 20 percent of z and y. You can see an example of this in the screenshot below, where the ham label indicates non-spam emails, and spam represents known spam emails"
   ]
  },
  {
   "cell_type": "markdown",
   "id": "0880969b",
   "metadata": {},
   "source": [
    "### Extracting features"
   ]
  },
  {
   "cell_type": "code",
   "execution_count": 4,
   "id": "de369da3",
   "metadata": {},
   "outputs": [
    {
     "name": "stdout",
     "output_type": "stream",
     "text": [
      "(3900, 7144)\n",
      "we have 3900 (rows) documents and 7115 unique words (columns)!\n"
     ]
    }
   ],
   "source": [
    "cv = CountVectorizer()\n",
    "features = cv.fit_transform(x_train)\n",
    "print(features.shape)\n",
    "print(\"we have 3900 (rows) documents and 7115 unique words (columns)!\")"
   ]
  },
  {
   "cell_type": "markdown",
   "id": "d922c01f",
   "metadata": {},
   "source": [
    "In cv= CountVectorizer(), CountVectorizer() randomly assigns a number to each word in a process called tokenizing. Then, it counts the number of occurrences of words and saves it to cv. At this point, we’ve only assigned a method to cv.\n",
    "\n",
    "features = cv.fit_transform(z_train) randomly assigns a number to each word. It counts the number of occurrences of each word, then saves it to cv."
   ]
  },
  {
   "attachments": {
    "support-vector-machine-example.avif": {
     "image/avif": "[encoded data removed]"
    }
   },
   "cell_type": "markdown",
   "id": "91ecaac1",
   "metadata": {},
   "source": [
    "### Building the model\n",
    "SVM, the support vector machine algorithm, is a linear model for classification and regression. The idea of SVM is simple, the algorithm creates a line, or a hyperplane, which separates the data into classes. SVM can solve both linear and non-linear problems:\n",
    "\n",
    "![support-vector-machine-example.avif](attachment:support-vector-machine-example.avif)\n"
   ]
  },
  {
   "cell_type": "markdown",
   "id": "876dd2e6",
   "metadata": {},
   "source": [
    "Let’s create an SVM model with the code below:"
   ]
  },
  {
   "cell_type": "code",
   "execution_count": 5,
   "id": "4caef365",
   "metadata": {},
   "outputs": [
    {
     "data": {
      "text/plain": [
       "SVC()"
      ]
     },
     "execution_count": 5,
     "metadata": {},
     "output_type": "execute_result"
    }
   ],
   "source": [
    "model = svm.SVC()\n",
    "model.fit(features,y_train)"
   ]
  },
  {
   "cell_type": "markdown",
   "id": "a72f05d4",
   "metadata": {},
   "source": [
    "model = svm.SVC() assigns svm.SVC() to the model. In the model.fit(features,y_train) function, model.fit trains the model with features and y_train. Then, it checks the prediction against the y_train label and adjusts its parameters until it reaches the highest possible accuracy."
   ]
  },
  {
   "cell_type": "markdown",
   "id": "63d6bb54",
   "metadata": {},
   "source": [
    "### Testing our email spam detector\n",
    "Now, to ensure accuracy, let’s test our application. Run the code below:"
   ]
  },
  {
   "cell_type": "code",
   "execution_count": 6,
   "id": "ed172bbf",
   "metadata": {},
   "outputs": [
    {
     "name": "stdout",
     "output_type": "stream",
     "text": [
      "Accuracy: 0.9796650717703349\n",
      "we were able to classify spam with 97 percent accuracy.\n"
     ]
    }
   ],
   "source": [
    "features_test = cv.transform(x_test)\n",
    "print(\"Accuracy: {}\".format(model.score(features_test,y_test)))\n",
    "print(\"we were able to classify spam with 97 percent accuracy.\")"
   ]
  },
  {
   "cell_type": "markdown",
   "id": "a70df301",
   "metadata": {},
   "source": [
    "The features_test = cv.transform(z_test) function makes predictions from z_test that will go through count vectorization. It saves the results to the features_test file.\n",
    "\n",
    "In the print(model.score(features_test,y_test)) function, mode.score() scores the prediction of features_test against the actual labels in y_test."
   ]
  },
  {
   "cell_type": "markdown",
   "id": "7fbb6f53",
   "metadata": {},
   "source": [
    "### Summary\n",
    "Here, we learned how to o build and run our model, comparing our predictions against the actual output. Finally, we tested our model using count vectorization.\n",
    "\n",
    "We’ve only scratched the surface of what we can achieve with machine learning for our email spam detector. We can also add modifications like automating the CSV file or providing a voice assistant."
   ]
  },
  {
   "cell_type": "code",
   "execution_count": null,
   "id": "834b41f3",
   "metadata": {},
   "outputs": [],
   "source": []
  }
 ],
 "metadata": {
  "kernelspec": {
   "display_name": "Python 3",
   "language": "python",
   "name": "python3"
  },
  "language_info": {
   "codemirror_mode": {
    "name": "ipython",
    "version": 3
   },
   "file_extension": ".py",
   "mimetype": "text/x-python",
   "name": "python",
   "nbconvert_exporter": "python",
   "pygments_lexer": "ipython3",
   "version": "3.8.8"
  }
 },
 "nbformat": 4,
 "nbformat_minor": 5
}
